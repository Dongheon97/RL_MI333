{
 "cells": [
  {
   "cell_type": "code",
   "execution_count": 1,
   "id": "717e199b",
   "metadata": {},
   "outputs": [],
   "source": [
    "import sys\n",
    "sys.path.append('/home/dnclab/env/mi333/lib/python3.8/site-packages')"
   ]
  },
  {
   "cell_type": "code",
   "execution_count": 2,
   "id": "1a2ee7d9",
   "metadata": {},
   "outputs": [],
   "source": [
    "import gym\n",
    "import numpy as np\n",
    "import matplotlib.pyplot as plt\n",
    "from gym.envs.registration import register\n",
    "import random as pr"
   ]
  },
  {
   "cell_type": "code",
   "execution_count": 3,
   "id": "ae0cc58d",
   "metadata": {},
   "outputs": [],
   "source": [
    "def rargmax(vector):\n",
    "    m = np.amax(vector)\n",
    "    indices = np.nonzero(vector == m)[0]\n",
    "    return pr.choice(indices)\n"
   ]
  },
  {
   "cell_type": "code",
   "execution_count": 4,
   "id": "917fd874",
   "metadata": {},
   "outputs": [],
   "source": [
    "register(\n",
    "    id='FrozenLake-v3',\n",
    "    entry_point='gym.envs.toy_text:FrozenLakeEnv',\n",
    "    kwargs={'map_name': '4x4',\n",
    "            'is_slippery': False}\n",
    ")\n",
    "\n",
    "env = gym.make('FrozenLake-v3')"
   ]
  },
  {
   "cell_type": "markdown",
   "id": "3ac6fe5f",
   "metadata": {},
   "source": [
    "## Dummy Q-Learning (deterministic)"
   ]
  },
  {
   "cell_type": "code",
   "execution_count": 5,
   "id": "ec5bd9a1",
   "metadata": {},
   "outputs": [],
   "source": [
    "Q = np.zeros([env.observation_space.n, env.action_space.n])\n",
    "\n",
    "num_episodes = 2000\n",
    "\n",
    "rList = []\n",
    "for i in range(num_episodes):\n",
    "    state=env.reset()\n",
    "    rAll = 0\n",
    "    done = False\n",
    "\n",
    "    # Q-Learning Algorithm\n",
    "    while not done:\n",
    "        action = rargmax(Q[state, :])\n",
    "\n",
    "        new_state, reward, done, _ = env.step(action)\n",
    "\n",
    "        Q[state, action] = reward + np.max(Q[new_state,:])\n",
    "\n",
    "        rAll += reward\n",
    "        state = new_state\n",
    "    rList.append(rAll)"
   ]
  },
  {
   "cell_type": "code",
   "execution_count": 6,
   "id": "d5ea0ca8",
   "metadata": {},
   "outputs": [
    {
     "name": "stdout",
     "output_type": "stream",
     "text": [
      "Success rate: 0.9345\n",
      "Final Q-Table Values\n",
      "LEFT DOWN RIGHT UP\n",
      "[[0. 1. 0. 0.]\n",
      " [0. 0. 0. 0.]\n",
      " [0. 0. 0. 0.]\n",
      " [0. 0. 0. 0.]\n",
      " [0. 1. 0. 0.]\n",
      " [0. 0. 0. 0.]\n",
      " [0. 0. 0. 0.]\n",
      " [0. 0. 0. 0.]\n",
      " [0. 0. 1. 0.]\n",
      " [0. 0. 1. 0.]\n",
      " [0. 1. 0. 0.]\n",
      " [0. 0. 0. 0.]\n",
      " [0. 0. 0. 0.]\n",
      " [0. 0. 1. 0.]\n",
      " [0. 0. 1. 0.]\n",
      " [0. 0. 0. 0.]]\n"
     ]
    },
    {
     "data": {
      "image/png": "[encoded data removed]",
      "text/plain": [
       "<Figure size 432x288 with 1 Axes>"
      ]
     },
     "metadata": {
      "needs_background": "light"
     },
     "output_type": "display_data"
    }
   ],
   "source": [
    "print(\"Success rate: \"+str(sum(rList)/num_episodes))\n",
    "print(\"Final Q-Table Values\")\n",
    "print(\"LEFT DOWN RIGHT UP\")\n",
    "print(Q)\n",
    "plt.bar(range(len(rList)), rList, color=\"blue\")\n",
    "plt.show()"
   ]
  },
  {
   "cell_type": "markdown",
   "id": "e70da862",
   "metadata": {},
   "source": [
    "## Exploration & Exploitation + Discount Vector (deterministic)"
   ]
  },
  {
   "cell_type": "code",
   "execution_count": 9,
   "id": "394fbdad",
   "metadata": {},
   "outputs": [],
   "source": [
    "Q = np.zeros([env.observation_space.n, env.action_space.n])\n",
    "\n",
    "dis = 0.9\n",
    "num_episodes = 2000\n",
    "\n",
    "rList = []\n",
    "for i in range(num_episodes):\n",
    "    state=env.reset()\n",
    "    rAll = 0\n",
    "    done = False\n",
    "\n",
    "    # e-greedy value\n",
    "    e = 1.0 / ((i//100)+1)\n",
    "    \n",
    "    # Q-Learning Algorithm\n",
    "    while not done:\n",
    "        # 1) Noise\n",
    "        #action = np.argmax(Q[state, :] + np.random.randn(1, env.action_space.n) / (i+1))\n",
    "\n",
    "        # 2) E-Greedy\n",
    "        if np.random.rand(1) < e:\n",
    "            action = env.action_space.sample()\n",
    "        else:\n",
    "            action = np.argmax(Q[state, :])\n",
    "        \n",
    "        new_state, reward, done, _ = env.step(action)\n",
    "\n",
    "        # Discount Vector(Decay)\n",
    "        Q[state, action] = reward + dis*np.max(Q[new_state,:])\n",
    "\n",
    "        rAll += reward\n",
    "        state = new_state\n",
    "    rList.append(rAll)"
   ]
  },
  {
   "cell_type": "code",
   "execution_count": 10,
   "id": "8a2bbb00",
   "metadata": {},
   "outputs": [
    {
     "name": "stdout",
     "output_type": "stream",
     "text": [
      "Success rate: 0.809\n",
      "Final Q-Table Values\n",
      "LEFT DOWN RIGHT UP\n",
      "[[0.531441 0.59049  0.59049  0.531441]\n",
      " [0.531441 0.       0.6561   0.59049 ]\n",
      " [0.59049  0.729    0.59049  0.6561  ]\n",
      " [0.6561   0.       0.59049  0.59049 ]\n",
      " [0.59049  0.6561   0.       0.531441]\n",
      " [0.       0.       0.       0.      ]\n",
      " [0.       0.81     0.       0.6561  ]\n",
      " [0.       0.       0.       0.      ]\n",
      " [0.6561   0.       0.729    0.59049 ]\n",
      " [0.6561   0.81     0.81     0.      ]\n",
      " [0.729    0.9      0.       0.729   ]\n",
      " [0.       0.       0.       0.      ]\n",
      " [0.       0.       0.       0.      ]\n",
      " [0.       0.81     0.9      0.729   ]\n",
      " [0.81     0.9      1.       0.81    ]\n",
      " [0.       0.       0.       0.      ]]\n"
     ]
    },
    {
     "data": {
      "image/png": "[encoded data removed]",
      "text/plain": [
       "<Figure size 432x288 with 1 Axes>"
      ]
     },
     "metadata": {
      "needs_background": "light"
     },
     "output_type": "display_data"
    }
   ],
   "source": [
    "print(\"Success rate: \"+str(sum(rList)/num_episodes))\n",
    "print(\"Final Q-Table Values\")\n",
    "print(\"LEFT DOWN RIGHT UP\")\n",
    "print(Q)\n",
    "plt.bar(range(len(rList)), rList, color=\"blue\")\n",
    "plt.show()"
   ]
  },
  {
   "cell_type": "markdown",
   "id": "caf3103c",
   "metadata": {},
   "source": [
    "## Stochastic (non-deterministic, learning-rate)\n"
   ]
  },
  {
   "cell_type": "code",
   "execution_count": 21,
   "id": "2bdbb7a2",
   "metadata": {},
   "outputs": [
    {
     "ename": "DeprecatedEnv",
     "evalue": "Environment version `v0` for `FrozenLake` is deprecated. Please use the latest version `v1`.",
     "output_type": "error",
     "traceback": [
      "\u001b[0;31m---------------------------------------------------------------------------\u001b[0m",
      "\u001b[0;31mDeprecatedEnv\u001b[0m                             Traceback (most recent call last)",
      "Input \u001b[0;32mIn [21]\u001b[0m, in \u001b[0;36m<cell line: 1>\u001b[0;34m()\u001b[0m\n\u001b[0;32m----> 1\u001b[0m env \u001b[38;5;241m=\u001b[39m \u001b[43mgym\u001b[49m\u001b[38;5;241;43m.\u001b[39;49m\u001b[43mmake\u001b[49m\u001b[43m(\u001b[49m\u001b[38;5;124;43m'\u001b[39;49m\u001b[38;5;124;43mFrozenLake-v0\u001b[39;49m\u001b[38;5;124;43m'\u001b[39;49m\u001b[43m)\u001b[49m\n\u001b[1;32m      3\u001b[0m Q \u001b[38;5;241m=\u001b[39m np\u001b[38;5;241m.\u001b[39mzeros([env\u001b[38;5;241m.\u001b[39mobservation_space\u001b[38;5;241m.\u001b[39mn, env\u001b[38;5;241m.\u001b[39maction_space\u001b[38;5;241m.\u001b[39mn])\n\u001b[1;32m      5\u001b[0m learning_rate \u001b[38;5;241m=\u001b[39m \u001b[38;5;241m0.85\u001b[39m\n",
      "File \u001b[0;32m~/env/mi333/lib/python3.8/site-packages/gym/envs/registration.py:676\u001b[0m, in \u001b[0;36mmake\u001b[0;34m(id, **kwargs)\u001b[0m\n\u001b[1;32m    675\u001b[0m \u001b[38;5;28;01mdef\u001b[39;00m \u001b[38;5;21mmake\u001b[39m(\u001b[38;5;28mid\u001b[39m: \u001b[38;5;28mstr\u001b[39m, \u001b[38;5;241m*\u001b[39m\u001b[38;5;241m*\u001b[39mkwargs) \u001b[38;5;241m-\u001b[39m\u001b[38;5;241m>\u001b[39m \u001b[38;5;124m\"\u001b[39m\u001b[38;5;124mEnv\u001b[39m\u001b[38;5;124m\"\u001b[39m:\n\u001b[0;32m--> 676\u001b[0m     \u001b[38;5;28;01mreturn\u001b[39;00m \u001b[43mregistry\u001b[49m\u001b[38;5;241;43m.\u001b[39;49m\u001b[43mmake\u001b[49m\u001b[43m(\u001b[49m\u001b[38;5;28;43mid\u001b[39;49m\u001b[43m,\u001b[49m\u001b[43m \u001b[49m\u001b[38;5;241;43m*\u001b[39;49m\u001b[38;5;241;43m*\u001b[39;49m\u001b[43mkwargs\u001b[49m\u001b[43m)\u001b[49m\n",
      "File \u001b[0;32m~/env/mi333/lib/python3.8/site-packages/gym/envs/registration.py:518\u001b[0m, in \u001b[0;36mEnvRegistry.make\u001b[0;34m(self, path, **kwargs)\u001b[0m\n\u001b[1;32m    515\u001b[0m     path \u001b[38;5;241m=\u001b[39m latest_versioned_spec\u001b[38;5;241m.\u001b[39mid\n\u001b[1;32m    517\u001b[0m \u001b[38;5;66;03m# Lookup our path\u001b[39;00m\n\u001b[0;32m--> 518\u001b[0m spec \u001b[38;5;241m=\u001b[39m \u001b[38;5;28;43mself\u001b[39;49m\u001b[38;5;241;43m.\u001b[39;49m\u001b[43mspec\u001b[49m\u001b[43m(\u001b[49m\u001b[43mpath\u001b[49m\u001b[43m)\u001b[49m\n\u001b[1;32m    519\u001b[0m \u001b[38;5;66;03m# Construct the environment\u001b[39;00m\n\u001b[1;32m    520\u001b[0m \u001b[38;5;28;01mreturn\u001b[39;00m spec\u001b[38;5;241m.\u001b[39mmake(\u001b[38;5;241m*\u001b[39m\u001b[38;5;241m*\u001b[39mkwargs)\n",
      "File \u001b[0;32m~/env/mi333/lib/python3.8/site-packages/gym/envs/registration.py:540\u001b[0m, in \u001b[0;36mEnvRegistry.spec\u001b[0;34m(self, path)\u001b[0m\n\u001b[1;32m    536\u001b[0m     \u001b[38;5;28mid\u001b[39m \u001b[38;5;241m=\u001b[39m path\n\u001b[1;32m    538\u001b[0m \u001b[38;5;66;03m# We can go ahead and return the env_spec.\u001b[39;00m\n\u001b[1;32m    539\u001b[0m \u001b[38;5;66;03m# The EnvSpecTree will take care of any exceptions.\u001b[39;00m\n\u001b[0;32m--> 540\u001b[0m \u001b[38;5;28;01mreturn\u001b[39;00m \u001b[38;5;28;43mself\u001b[39;49m\u001b[38;5;241;43m.\u001b[39;49m\u001b[43menv_specs\u001b[49m\u001b[43m[\u001b[49m\u001b[38;5;28;43mid\u001b[39;49m\u001b[43m]\u001b[49m\n",
      "File \u001b[0;32m~/env/mi333/lib/python3.8/site-packages/gym/envs/registration.py:376\u001b[0m, in \u001b[0;36mEnvSpecTree.__getitem__\u001b[0;34m(self, key)\u001b[0m\n\u001b[1;32m    371\u001b[0m \u001b[38;5;28;01mdef\u001b[39;00m \u001b[38;5;21m__getitem__\u001b[39m(\u001b[38;5;28mself\u001b[39m, key: \u001b[38;5;28mstr\u001b[39m) \u001b[38;5;241m-\u001b[39m\u001b[38;5;241m>\u001b[39m EnvSpec:\n\u001b[1;32m    372\u001b[0m     \u001b[38;5;66;03m# Get an item from the tree.\u001b[39;00m\n\u001b[1;32m    373\u001b[0m     \u001b[38;5;66;03m# We first parse the components so we can look up the\u001b[39;00m\n\u001b[1;32m    374\u001b[0m     \u001b[38;5;66;03m# appropriate environment ID.\u001b[39;00m\n\u001b[1;32m    375\u001b[0m     namespace, name, version \u001b[38;5;241m=\u001b[39m parse_env_id(key)\n\u001b[0;32m--> 376\u001b[0m     \u001b[38;5;28;43mself\u001b[39;49m\u001b[38;5;241;43m.\u001b[39;49m\u001b[43m_assert_version_exists\u001b[49m\u001b[43m(\u001b[49m\u001b[43mnamespace\u001b[49m\u001b[43m,\u001b[49m\u001b[43m \u001b[49m\u001b[43mname\u001b[49m\u001b[43m,\u001b[49m\u001b[43m \u001b[49m\u001b[43mversion\u001b[49m\u001b[43m)\u001b[49m\n\u001b[1;32m    378\u001b[0m     \u001b[38;5;28;01mreturn\u001b[39;00m \u001b[38;5;28mself\u001b[39m\u001b[38;5;241m.\u001b[39mtree[namespace][name][version]\n",
      "File \u001b[0;32m~/env/mi333/lib/python3.8/site-packages/gym/envs/registration.py:342\u001b[0m, in \u001b[0;36mEnvSpecTree._assert_version_exists\u001b[0;34m(self, namespace, name, version)\u001b[0m\n\u001b[1;32m    340\u001b[0m     message \u001b[38;5;241m+\u001b[39m\u001b[38;5;241m=\u001b[39m \u001b[38;5;124m\"\u001b[39m\u001b[38;5;124mis deprecated. \u001b[39m\u001b[38;5;124m\"\u001b[39m\n\u001b[1;32m    341\u001b[0m     message \u001b[38;5;241m+\u001b[39m\u001b[38;5;241m=\u001b[39m \u001b[38;5;124mf\u001b[39m\u001b[38;5;124m\"\u001b[39m\u001b[38;5;124mPlease use the latest version `v\u001b[39m\u001b[38;5;132;01m{\u001b[39;00mlatest_spec\u001b[38;5;241m.\u001b[39mversion\u001b[38;5;132;01m}\u001b[39;00m\u001b[38;5;124m`.\u001b[39m\u001b[38;5;124m\"\u001b[39m\n\u001b[0;32m--> 342\u001b[0m     \u001b[38;5;28;01mraise\u001b[39;00m error\u001b[38;5;241m.\u001b[39mDeprecatedEnv(message)\n\u001b[1;32m    343\u001b[0m \u001b[38;5;66;03m# If this version doesn't exist and there only exists a default version\u001b[39;00m\n\u001b[1;32m    344\u001b[0m \u001b[38;5;28;01melif\u001b[39;00m latest_spec \u001b[38;5;129;01mand\u001b[39;00m latest_spec\u001b[38;5;241m.\u001b[39mversion \u001b[38;5;129;01mis\u001b[39;00m \u001b[38;5;28;01mNone\u001b[39;00m:\n",
      "\u001b[0;31mDeprecatedEnv\u001b[0m: Environment version `v0` for `FrozenLake` is deprecated. Please use the latest version `v1`."
     ]
    }
   ],
   "source": [
    "env = gym.make('FrozenLake-v0')\n",
    "\n",
    "Q = np.zeros([env.observation_space.n, env.action_space.n])\n",
    "\n",
    "learning_rate = 0.85\n",
    "dis = 0.9\n",
    "num_episodes = 2000"
   ]
  },
  {
   "cell_type": "code",
   "execution_count": 22,
   "id": "3b49fb4e",
   "metadata": {},
   "outputs": [],
   "source": [
    "rList = []\n",
    "for i in range(num_episodes):\n",
    "    state=env.reset()\n",
    "    rAll = 0\n",
    "    done = False\n",
    "\n",
    "    # e-greedy value\n",
    "    e = 1.0 / ((i//100)+1)\n",
    "    \n",
    "    # Q-Learning Algorithm\n",
    "    while not done:\n",
    "        # 1) Noise\n",
    "        action = np.argmax(Q[state, :] + np.random.randn(1, env.action_space.n) / (i+1))\n",
    "\n",
    "        # 2) E-Greedy\n",
    "#         if np.random.rand(1) < e:\n",
    "#             action = env.action_space.sample()\n",
    "#         else:\n",
    "#             action = np.argmax(Q[state, :])\n",
    "        \n",
    "        new_state, reward, done, _ = env.step(action)\n",
    "\n",
    "        # Discount Vector(Decay)\n",
    "        Q[state, action] = (1-learning_rate) * Q[state,action] \\\n",
    "                            + learning_rate * (reward + dis*np.max(Q[new_state,:]))\n",
    "\n",
    "        rAll += reward\n",
    "        state = new_state\n",
    "    rList.append(rAll)"
   ]
  },
  {
   "cell_type": "code",
   "execution_count": 23,
   "id": "6cab0a6a",
   "metadata": {},
   "outputs": [
    {
     "name": "stdout",
     "output_type": "stream",
     "text": [
      "Success rate: 0.5635\n",
      "Final Q-Table Values\n",
      "LEFT DOWN RIGHT UP\n",
      "[[1.02549294e-01 1.62115566e-03 1.03100738e-03 3.62552963e-03]\n",
      " [5.34468288e-06 4.49481962e-05 7.76748584e-04 5.90427924e-02]\n",
      " [9.95756400e-03 2.43898062e-04 1.16856332e-03 6.81098442e-04]\n",
      " [2.29512991e-04 1.33243794e-05 1.00279059e-04 1.30879471e-03]\n",
      " [2.63466892e-01 9.28577879e-07 5.55680234e-05 2.48002874e-04]\n",
      " [0.00000000e+00 0.00000000e+00 0.00000000e+00 0.00000000e+00]\n",
      " [1.56294326e-04 1.60069005e-07 3.96022030e-06 2.37246696e-04]\n",
      " [0.00000000e+00 0.00000000e+00 0.00000000e+00 0.00000000e+00]\n",
      " [1.54501071e-05 6.13842546e-05 7.64098362e-07 1.60483826e-01]\n",
      " [5.06187973e-04 6.14507951e-01 2.05496402e-04 2.66480860e-04]\n",
      " [7.73443341e-01 2.58002109e-04 3.29084349e-04 4.52618397e-04]\n",
      " [0.00000000e+00 0.00000000e+00 0.00000000e+00 0.00000000e+00]\n",
      " [0.00000000e+00 0.00000000e+00 0.00000000e+00 0.00000000e+00]\n",
      " [1.16299521e-03 1.14293937e-02 8.79812902e-01 3.32726958e-03]\n",
      " [2.51369303e-02 9.99735734e-01 4.74177991e-02 2.31047668e-02]\n",
      " [0.00000000e+00 0.00000000e+00 0.00000000e+00 0.00000000e+00]]\n"
     ]
    },
    {
     "data": {
      "image/png": "[encoded data removed]",
      "text/plain": [
       "<Figure size 432x288 with 1 Axes>"
      ]
     },
     "metadata": {
      "needs_background": "light"
     },
     "output_type": "display_data"
    }
   ],
   "source": [
    "print(\"Success rate: \"+str(sum(rList)/num_episodes))\n",
    "print(\"Final Q-Table Values\")\n",
    "print(\"LEFT DOWN RIGHT UP\")\n",
    "print(Q)\n",
    "plt.bar(range(len(rList)), rList, color=\"blue\")\n",
    "plt.show()"
   ]
  }
 ],
 "metadata": {
  "kernelspec": {
   "display_name": "Python 3 (ipykernel)",
   "language": "python",
   "name": "python3"
  },
  "language_info": {
   "codemirror_mode": {
    "name": "ipython",
    "version": 3
   },
   "file_extension": ".py",
   "mimetype": "text/x-python",
   "name": "python",
   "nbconvert_exporter": "python",
   "pygments_lexer": "ipython3",
   "version": "3.8.10"
  }
 },
 "nbformat": 4,
 "nbformat_minor": 5
}
