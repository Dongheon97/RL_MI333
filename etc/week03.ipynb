{
 "cells": [
  {
   "cell_type": "markdown",
   "id": "f75cf056",
   "metadata": {},
   "source": [
    "<h2>Deterministic Policies</h2>"
   ]
  },
  {
   "cell_type": "code",
   "execution_count": null,
   "id": "a0819a54",
   "metadata": {},
   "outputs": [],
   "source": [
    "'''\n",
    "pi_net = nn.Sequential(\n",
    "        nn.Linear(obs_dim, 64),\n",
    "        nn.Tanh(),\n",
    "        nn.Linear(64, 64),\n",
    "        nn.Tanh(),\n",
    "        nn.Linear(64, act_dim)\n",
    "        )\n",
    "'''"
   ]
  },
  {
   "cell_type": "markdown",
   "id": "3b296813",
   "metadata": {},
   "source": [
    "<h2>Stochastic Policies</h2>\n",
    "\n",
    "#### Categorical policies -> Discrete action spaces\n",
    "\n",
    "#### Diagonal Gaussian policies -> Continuous action spaces"
   ]
  },
  {
   "cell_type": "markdown",
   "id": "dbbeec2f",
   "metadata": {},
   "source": [
    "## Value Function\n",
    "\n",
    "#### On-Policy Value Function\n",
    " - expected return starting from state s, acting by policy\n",
    "\n",
    "#### On-Policy Action-Value Function\n",
    " - expected return starting from state s, taking arbitrary action a\n",
    " \n",
    "#### Optimal Value Function\n",
    " - expected return starting from state s, always acting optimal policy\n",
    "\n",
    "#### Optimal Action-Value Function\n",
    " - expected return starting from state s, taking arbitrary action a, acting optimal policy\n",
    " \n"
   ]
  },
  {
   "cell_type": "markdown",
   "id": "b58f3728",
   "metadata": {},
   "source": [
    "\n",
    "### Bellman Equation \n",
    " - The value of your starting point \n",
    "     = reward expecting to get from being there + value of next state\n"
   ]
  },
  {
   "cell_type": "markdown",
   "id": "b709202b",
   "metadata": {},
   "source": [
    "<h2>Kinds of RL Algorithms</h2>"
   ]
  },
  {
   "cell_type": "markdown",
   "id": "c6cbb5d8",
   "metadata": {},
   "source": [
    "\n",
    "#### Model-Free vs Model-Based\n",
    " - whether the agent has access to (or learns) a model of the environment\n",
    " \n",
    "1. Policies (stochastic / deterministic)\n",
    "2. Action-Value Functions (Q-Functions)\n",
    "3. Value Functions\n",
    "4. and/or environments models\n",
    "\n"
   ]
  },
  {
   "cell_type": "markdown",
   "id": "1d160cf0",
   "metadata": {},
   "source": [
    "\n",
    "### Model-Free\n",
    "\n",
    "#### Policy Optimization\n",
    " 1. directly by gradient ascent (on-policy)\n",
    " 2. indirectly by maximizing local approximations (on-policy)\n",
    "  - On-Policy : each update only uses only collected while actiong according to the most recent version of the policy\n",
    "  - directly optimize : stable, reliable\n",
    "\n",
    "\n",
    "#### Q-Learning\n",
    " - Off-Policy : each updates can use data collected at any point during training\n",
    " - DQN\n",
    " - indirectly optimize : many failure modes, self-consistency equation, more efficient(reuse data)\n"
   ]
  },
  {
   "cell_type": "markdown",
   "id": "29f8ed92",
   "metadata": {},
   "source": [
    "### Model-Based\n",
    " \n",
    "#### Pure Planning\n",
    " - use model-predictive control (MPC) to select actions\n",
    " - calculates the plan whenever agent observes environments -> agent executes the first action of the plan, immediately discards the rest of it.\n",
    " - computes a new plan each time it prepares to interact with the environment\n",
    " \n",
    "#### Expert Iteration\n",
    " - using and learning an explicit representation of the policy\n",
    " - uses planning algorithm (Monte Carlo Tree Search)\n",
    "      - produces an action which is better than what the policy alone would have produce\n"
   ]
  },
  {
   "cell_type": "markdown",
   "id": "a8ac36d2",
   "metadata": {},
   "source": [
    "## Policy Gradient"
   ]
  },
  {
   "cell_type": "markdown",
   "id": "ab98116c",
   "metadata": {},
   "source": [
    "#### Why?\n",
    " - policy is fixed in Q-Learning -> stochastic policy learning X -> epsilon-greedy exploration (inefficient)\n",
    " - easy to control continuous actions\n",
    " \n",
    " - RL Goal: finds optimal behavior strategy to get optimal reward\n",
    " - directly optimizes the policy"
   ]
  },
  {
   "cell_type": "markdown",
   "id": "988e4d9c",
   "metadata": {},
   "source": [
    "### Simple Policy Gradient"
   ]
  },
  {
   "cell_type": "code",
   "execution_count": null,
   "id": "ed20e594",
   "metadata": {},
   "outputs": [],
   "source": [
    "import torch\n",
    "import torch.nn as nn\n",
    "from torch.distributions.categorical import Categorical\n",
    "from torch.optim import Adam\n",
    "import numpy as np\n",
    "import gym\n",
    "from gym.spaces import Discrete, Box\n",
    "\n",
    "def mlp(sizes, activation=nn.Tanh, output_activation=nn.Identity):\n",
    "    # Build a feedforward neural network.\n",
    "    layers = []\n",
    "    for j in range(len(sizes)-1):\n",
    "        act = activation if j < len(sizes)-2 else output_activation\n",
    "        layers += [nn.Linear(sizes[j], sizes[j+1]), act()]\n",
    "    return nn.Sequential(*layers)\n",
    "\n",
    "def train(env_name='CartPole-v0', hidden_sizes=[32], lr=1e-2, \n",
    "          epochs=50, batch_size=5000, render=False):\n",
    "\n",
    "    # make environment, check spaces, get obs / act dims\n",
    "    env = gym.make(env_name)\n",
    "    assert isinstance(env.observation_space, Box), \\\n",
    "        \"This example only works for envs with continuous state spaces.\"\n",
    "    assert isinstance(env.action_space, Discrete), \\\n",
    "        \"This example only works for envs with discrete action spaces.\"\n",
    "\n",
    "    obs_dim = env.observation_space.shape[0]\n",
    "    n_acts = env.action_space.n\n",
    "\n",
    "    # make core of policy network\n",
    "    logits_net = mlp(sizes=[obs_dim]+hidden_sizes+[n_acts])\n",
    "\n",
    "    # make function to compute action distribution\n",
    "    def get_policy(obs):\n",
    "        logits = logits_net(obs)\n",
    "        return Categorical(logits=logits)\n",
    "\n",
    "    # make action selection function (outputs int actions, sampled from policy)\n",
    "    def get_action(obs):\n",
    "        return get_policy(obs).sample().item()\n",
    "\n",
    "    # make loss function whose gradient, for the right data, is policy gradient\n",
    "    # this loss function doesn't measure performance\n",
    "    def compute_loss(obs, act, weights):\n",
    "        logp = get_policy(obs).log_prob(act)\n",
    "        return -(logp * weights).mean()\n",
    "\n",
    "    # make optimizer\n",
    "    optimizer = Adam(logits_net.parameters(), lr=lr)\n",
    "\n",
    "    # for training policy\n",
    "    def train_one_epoch():\n",
    "        # make some empty lists for logging.\n",
    "        batch_obs = []          # for observations\n",
    "        batch_acts = []         # for actions\n",
    "        batch_weights = []      # for R(tau) weighting in policy gradient\n",
    "        batch_rets = []         # for measuring episode returns\n",
    "        batch_lens = []         # for measuring episode lengths\n",
    "\n",
    "        # reset episode-specific variables\n",
    "        obs = env.reset()       # first obs comes from starting distribution\n",
    "        done = False            # signal from environment that episode is over\n",
    "        ep_rewards = []            # list for rewards accrued throughout ep\n",
    "\n",
    "        # render first episode of each epoch\n",
    "        finished_rendering_this_epoch = False\n",
    "\n",
    "        # collect experience by acting in the environment with current policy\n",
    "        while True:\n",
    "\n",
    "            # rendering\n",
    "            if (not finished_rendering_this_epoch) and render:\n",
    "                env.render()\n",
    "\n",
    "            # save obs\n",
    "            batch_obs.append(obs.copy())\n",
    "\n",
    "            # act in the environment\n",
    "            act = get_action(torch.as_tensor(obs, dtype=torch.float32))\n",
    "            obs, reward, done, _ = env.step(act)\n",
    "\n",
    "            # save action, reward\n",
    "            batch_acts.append(act)\n",
    "            ep_rewards.append(reward)\n",
    "\n",
    "            if done:\n",
    "                # if episode is over, record info about episode\n",
    "                ep_ret, ep_len = sum(ep_rewards), len(ep_rewards)\n",
    "                batch_rets.append(ep_ret)\n",
    "                batch_lens.append(ep_len)\n",
    "\n",
    "                # the weight for each logprob(a|s) is R(tau)\n",
    "                batch_weights += [ep_ret] * ep_len\n",
    "\n",
    "                # reset episode-specific variables\n",
    "                obs, done, ep_rewards = env.reset(), False, []\n",
    "\n",
    "                # won't render again this epoch\n",
    "                finished_rendering_this_epoch = True\n",
    "\n",
    "                # end experience loop if we have enough of it\n",
    "                if len(batch_obs) > batch_size:\n",
    "                    break\n",
    "\n",
    "        # take a single policy gradient update step\n",
    "        optimizer.zero_grad()\n",
    "        batch_loss = compute_loss(obs=torch.as_tensor(batch_obs, dtype=torch.float32),\n",
    "                                  act=torch.as_tensor(batch_acts, dtype=torch.int32),\n",
    "                                  weights=torch.as_tensor(batch_weights, dtype=torch.float32)\n",
    "                                  )\n",
    "        batch_loss.backward()\n",
    "        optimizer.step()\n",
    "        return batch_loss, batch_rets, batch_lens\n",
    "\n",
    "    # training loop\n",
    "    for i in range(epochs):\n",
    "        batch_loss, batch_rets, batch_lens = train_one_epoch()\n",
    "        print('epoch: %3d \\t loss: %.3f \\t return: %.3f \\t ep_len: %.3f'%\n",
    "                (i, batch_loss, np.mean(batch_rets), np.mean(batch_lens)))\n",
    "        \n",
    "if __name__ == '__main__':\n",
    "    import argparse\n",
    "    parser = argparse.ArgumentParser()\n",
    "    parser.add_argument('--env_name', '--env', type=str, default='CartPole-v0')\n",
    "    parser.add_argument('--render', action='store_true')\n",
    "    parser.add_argument('--lr', type=float, default=1e-2)\n",
    "    args = parser.parse_args()\n",
    "    print('\\nUsing simplest formulation of policy gradient.\\n')\n",
    "    train(env_name=args.env_name, render=args.render, lr=args.lr)"
   ]
  },
  {
   "cell_type": "code",
   "execution_count": 4,
   "id": "edba0994",
   "metadata": {},
   "outputs": [],
   "source": [
    "import sys\n",
    "sys.path.append('/home/dnclab/env/mi333/lib/python3.8/site-packages')"
   ]
  },
  {
   "cell_type": "code",
   "execution_count": 6,
   "id": "aab4f9bd",
   "metadata": {},
   "outputs": [
    {
     "name": "stderr",
     "output_type": "stream",
     "text": [
      "/home/dnclab/env/mi333/lib/python3.8/site-packages/gym/envs/registration.py:595: UserWarning: \u001b[33mWARN: Overriding environment FrozenLake-v3\u001b[0m\n",
      "  logger.warn(f\"Overriding environment {id}\")\n"
     ]
    },
    {
     "name": "stdout",
     "output_type": "stream",
     "text": [
      "Success rate: 0.97\n",
      "Final Q-Table Values\n",
      "LEFT DOWN RIGHT UP\n",
      "[[0. 1. 0. 0.]\n",
      " [0. 0. 0. 0.]\n",
      " [0. 0. 0. 0.]\n",
      " [0. 0. 0. 0.]\n",
      " [0. 1. 0. 0.]\n",
      " [0. 0. 0. 0.]\n",
      " [0. 0. 0. 0.]\n",
      " [0. 0. 0. 0.]\n",
      " [0. 0. 1. 0.]\n",
      " [0. 1. 0. 0.]\n",
      " [0. 1. 0. 0.]\n",
      " [0. 0. 0. 0.]\n",
      " [0. 0. 0. 0.]\n",
      " [0. 0. 1. 0.]\n",
      " [0. 0. 1. 0.]\n",
      " [0. 0. 0. 0.]]\n"
     ]
    },
    {
     "data": {
      "image/png": "[encoded data removed]",
      "text/plain": [
       "<Figure size 432x288 with 1 Axes>"
      ]
     },
     "metadata": {
      "needs_background": "light"
     },
     "output_type": "display_data"
    }
   ],
   "source": [
    "import gym\n",
    "import numpy as np\n",
    "import matplotlib.pyplot as plt\n",
    "from gym.envs.registration import register\n",
    "import random as pr\n",
    "\n",
    "def rargmax(vector):\n",
    "    m = np.amax(vector)\n",
    "    indices = np.nonzero(vector == m)[0]\n",
    "    return pr.choice(indices)\n",
    "\n",
    "register(\n",
    "    id='FrozenLake-v3',\n",
    "    entry_point='gym.envs.toy_text:FrozenLakeEnv',\n",
    "    kwargs={'map_name': '4x4',\n",
    "            'is_slippery': False}\n",
    ")\n",
    "env = gym.make('FrozenLake-v3')\n",
    "\n",
    "Q = np.zeros([env.observation_space.n, env.action_space.n])\n",
    "\n",
    "num_episodes = 2000\n",
    "\n",
    "rList = []\n",
    "for i in range(num_episodes):\n",
    "    state=env.reset()\n",
    "    rAll = 0\n",
    "    done = False\n",
    "\n",
    "    # Q-Learning Algorithm\n",
    "    while not done:\n",
    "        action = rargmax(Q[state, :])\n",
    "\n",
    "        new_state, reward, done, _ = env.step(action)\n",
    "\n",
    "        Q[state, action] = reward + np.max(Q[new_state,:])\n",
    "\n",
    "        rAll += reward\n",
    "        state = new_state\n",
    "    rList.append(rAll)\n",
    "\n",
    "print(\"Success rate: \"+str(sum(rList)/num_episodes))\n",
    "print(\"Final Q-Table Values\")\n",
    "print(\"LEFT DOWN RIGHT UP\")\n",
    "print(Q)\n",
    "plt.bar(range(len(rList)), rList, color=\"blue\")\n",
    "plt.show()\n"
   ]
  },
  {
   "cell_type": "code",
   "execution_count": null,
   "id": "517f5e1c",
   "metadata": {},
   "outputs": [],
   "source": []
  }
 ],
 "metadata": {
  "kernelspec": {
   "display_name": "Python 3 (ipykernel)",
   "language": "python",
   "name": "python3"
  },
  "language_info": {
   "codemirror_mode": {
    "name": "ipython",
    "version": 3
   },
   "file_extension": ".py",
   "mimetype": "text/x-python",
   "name": "python",
   "nbconvert_exporter": "python",
   "pygments_lexer": "ipython3",
   "version": "3.8.10"
  }
 },
 "nbformat": 4,
 "nbformat_minor": 5
}
