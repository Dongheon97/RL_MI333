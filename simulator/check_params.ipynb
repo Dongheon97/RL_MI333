{
 "cells": [
  {
   "cell_type": "code",
   "execution_count": 16,
   "id": "7d3b57d8",
   "metadata": {},
   "outputs": [
    {
     "name": "stdout",
     "output_type": "stream",
     "text": [
      "Creating window glfw\n"
     ]
    },
    {
     "ename": "SystemExit",
     "evalue": "0",
     "output_type": "error",
     "traceback": [
      "An exception has occurred, use %tb to see the full traceback.\n",
      "\u001b[0;31mSystemExit\u001b[0m\u001b[0;31m:\u001b[0m 0\n"
     ]
    },
    {
     "name": "stderr",
     "output_type": "stream",
     "text": [
      "/home/dnclab/.local/lib/python3.8/site-packages/IPython/core/interactiveshell.py:3405: UserWarning: To exit: use 'exit', 'quit', or Ctrl-D.\n",
      "  warn(\"To exit: use 'exit', 'quit', or Ctrl-D.\", stacklevel=1)\n"
     ]
    }
   ],
   "source": [
    "#!/usr/bin/env python3\n",
    "\"\"\"\n",
    "Shows how to toss a capsule to a container.\n",
    "\"\"\"\n",
    "from mujoco_py import load_model_from_path, MjSim, MjViewer\n",
    "import os\n",
    "import torch\n",
    "import torch.nn as nn\n",
    "from random import *\n",
    "import mujoco\n",
    "from mujoco import *\n",
    "\n",
    "# xml_file = load_model_from_path(\"./xmls/cartpole.xml\")\n",
    "sim = MjSim(xml_file)\n",
    "\n",
    "viewer = MjViewer(sim)\n",
    "sim_state = sim.get_state()\n",
    "\n",
    "while True:\n",
    "    #print(sim_state)\n",
    "    sim.set_state(sim_state)\n",
    "\n",
    "    for i in range(1):\n",
    "        \n",
    "        if i<30:\n",
    "            sim.data.ctrl[:] = 0.1\n",
    "            #sim.data.ctrl[0:] = -1.0\n",
    "            #sim.data.ctrl[1:] = 0.0\n",
    "        else:\n",
    "            sim.data.ctrl[:] = 0.1\n",
    "            #sim.data.ctrl[0:] = 0.0\n",
    "            #sim.data.ctrl[1:] = -1.0\n",
    "        sim.step()\n",
    "        #print(sim.get_state())\n",
    "        viewer.render()\n",
    "\n",
    "    if os.getenv('TESTING') is not None:\n",
    "        break\n",
    "\n"
   ]
  },
  {
   "cell_type": "code",
   "execution_count": 1,
   "id": "806fe9f7",
   "metadata": {},
   "outputs": [],
   "source": [
    "from mujoco_py import load_model_from_path, MjSim, MjViewer\n",
    "import os\n",
    "import torch\n",
    "import torch.nn as nn\n",
    "import torch.optim as optim\n",
    "import torch.nn.functional as F\n",
    "\n",
    "from random import *\n",
    "\n",
    "import math\n",
    "\n",
    "# import gym\n",
    "import numpy as np"
   ]
  },
  {
   "cell_type": "code",
   "execution_count": 2,
   "id": "735d7464",
   "metadata": {},
   "outputs": [],
   "source": [
    "from IPython.display import clear_output\n",
    "import matplotlib.pyplot as plt\n",
    "%matplotlib inline"
   ]
  },
  {
   "cell_type": "code",
   "execution_count": 3,
   "id": "fe54901a",
   "metadata": {},
   "outputs": [],
   "source": [
    "from common.multiprocessing_env import SubprocVecEnv\n",
    "\n",
    "num_sims = 16\n",
    "xml_file = load_model_from_path(\"./xmls/cartpole.xml\")\n",
    "\n",
    "def make_sim():\n",
    "    def _thunk():\n",
    "        sim = MjSim(xml_file)\n",
    "        return sim\n",
    "    return _thunk\n",
    "\n",
    "sims = [make_sim() for i in range(num_sims)]\n",
    "sims = SubprocVecEnv(sims)\n",
    "\n",
    "sim = MjSim(xml_file)\n",
    "\n",
    "sim_init_state = sim.get_state()\n",
    "# viewer = MjViewer(sim)"
   ]
  },
  {
   "cell_type": "code",
   "execution_count": 15,
   "id": "f392b324",
   "metadata": {},
   "outputs": [
    {
     "name": "stdout",
     "output_type": "stream",
     "text": [
      "[0.]\n",
      "MjSimState(time=0.0, qpos=array([0., 0.]), qvel=array([0., 0.]), act=None, udd_state={})\n",
      "[0. 0.]\n",
      "[0. 0.]\n",
      "<mujoco_py.cymj.PyMjData object at 0x55ae260bc180>\n"
     ]
    }
   ],
   "source": [
    "print(sim.data.ctrl)\n",
    "curr = sim.get_state()\n",
    "print(curr)\n",
    "print(curr.qpos)\n",
    "print(curr.qvel)\n",
    "print(sim)"
   ]
  },
  {
   "cell_type": "code",
   "execution_count": null,
   "id": "61992f90",
   "metadata": {},
   "outputs": [],
   "source": [
    "def plot(frame_idx, rewards):\n",
    "    clear_output(True)\n",
    "    plt.figure(figsize=(20, 5))\n",
    "    plt.subplot(131)\n",
    "    plt.title('frame %s. reward: %s' % (frame_idx, rewards[-1]))\n",
    "    plt.plot(rewards)\n",
    "    plt.show()\n",
    "    \n",
    "def test_env(vis=False):\n",
    "    state = sim.set_state(sim_init_state)\n",
    "    if vis: viewer.render()\n",
    "    done = False\n",
    "    total_reward = 0\n",
    "    while not done:\n",
    "        state = torch.FloatTensor(state)"
   ]
  },
  {
   "cell_type": "code",
   "execution_count": null,
   "id": "a6af6b20",
   "metadata": {},
   "outputs": [],
   "source": []
  },
  {
   "cell_type": "code",
   "execution_count": null,
   "id": "68365779",
   "metadata": {},
   "outputs": [],
   "source": []
  }
 ],
 "metadata": {
  "kernelspec": {
   "display_name": "mi333",
   "language": "python",
   "name": "mi333"
  },
  "language_info": {
   "codemirror_mode": {
    "name": "ipython",
    "version": 3
   },
   "file_extension": ".py",
   "mimetype": "text/x-python",
   "name": "python",
   "nbconvert_exporter": "python",
   "pygments_lexer": "ipython3",
   "version": "3.8.13"
  }
 },
 "nbformat": 4,
 "nbformat_minor": 5
}
